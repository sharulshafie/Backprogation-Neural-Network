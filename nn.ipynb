{
 "cells": [
  {
   "cell_type": "markdown",
   "id": "seven-return",
   "metadata": {},
   "source": [
    "# Import Library"
   ]
  },
  {
   "cell_type": "code",
   "execution_count": 1,
   "id": "norman-green",
   "metadata": {},
   "outputs": [],
   "source": [
    "import pandas as pd \n",
    "import numpy as ny \n",
    "import matplotlib.pyplot as plot \n",
    "\n",
    "from sklearn.model_selection import train_test_split\n",
    "from sklearn.metrics import confusion_matrix\n",
    "from sklearn.metrics import classification_report "
   ]
  },
  {
   "cell_type": "markdown",
   "id": "clinical-warehouse",
   "metadata": {},
   "source": [
    "# Data Preparation"
   ]
  },
  {
   "cell_type": "code",
   "execution_count": 2,
   "id": "streaming-handy",
   "metadata": {
    "scrolled": true
   },
   "outputs": [
    {
     "data": {
      "text/html": [
       "<div>\n",
       "<style scoped>\n",
       "    .dataframe tbody tr th:only-of-type {\n",
       "        vertical-align: middle;\n",
       "    }\n",
       "\n",
       "    .dataframe tbody tr th {\n",
       "        vertical-align: top;\n",
       "    }\n",
       "\n",
       "    .dataframe thead th {\n",
       "        text-align: right;\n",
       "    }\n",
       "</style>\n",
       "<table border=\"1\" class=\"dataframe\">\n",
       "  <thead>\n",
       "    <tr style=\"text-align: right;\">\n",
       "      <th></th>\n",
       "      <th>Nscore</th>\n",
       "      <th>Cscore</th>\n",
       "      <th>Impulsive</th>\n",
       "      <th>Amphet</th>\n",
       "      <th>Benzos</th>\n",
       "      <th>Caff</th>\n",
       "      <th>Cannabis</th>\n",
       "      <th>Coke</th>\n",
       "      <th>Ecstasy</th>\n",
       "      <th>LSD</th>\n",
       "      <th>Nicotine</th>\n",
       "      <th>CONSUMP_SCORE</th>\n",
       "    </tr>\n",
       "  </thead>\n",
       "  <tbody>\n",
       "    <tr>\n",
       "      <th>0</th>\n",
       "      <td>0.910287</td>\n",
       "      <td>0.134551</td>\n",
       "      <td>0.215401</td>\n",
       "      <td>0.0</td>\n",
       "      <td>0.0</td>\n",
       "      <td>0.25</td>\n",
       "      <td>0.0</td>\n",
       "      <td>0.0</td>\n",
       "      <td>0.0</td>\n",
       "      <td>0.0</td>\n",
       "      <td>0.0</td>\n",
       "      <td>0</td>\n",
       "    </tr>\n",
       "    <tr>\n",
       "      <th>1</th>\n",
       "      <td>0.666125</td>\n",
       "      <td>0.574918</td>\n",
       "      <td>0.565343</td>\n",
       "      <td>0.0</td>\n",
       "      <td>0.0</td>\n",
       "      <td>0.50</td>\n",
       "      <td>0.0</td>\n",
       "      <td>0.0</td>\n",
       "      <td>0.0</td>\n",
       "      <td>0.0</td>\n",
       "      <td>0.0</td>\n",
       "      <td>0</td>\n",
       "    </tr>\n",
       "    <tr>\n",
       "      <th>2</th>\n",
       "      <td>0.305900</td>\n",
       "      <td>0.740399</td>\n",
       "      <td>0.428474</td>\n",
       "      <td>0.0</td>\n",
       "      <td>0.0</td>\n",
       "      <td>1.00</td>\n",
       "      <td>0.0</td>\n",
       "      <td>0.0</td>\n",
       "      <td>0.0</td>\n",
       "      <td>0.0</td>\n",
       "      <td>0.0</td>\n",
       "      <td>0</td>\n",
       "    </tr>\n",
       "    <tr>\n",
       "      <th>3</th>\n",
       "      <td>0.666125</td>\n",
       "      <td>0.633946</td>\n",
       "      <td>0.428474</td>\n",
       "      <td>0.0</td>\n",
       "      <td>0.0</td>\n",
       "      <td>1.00</td>\n",
       "      <td>0.0</td>\n",
       "      <td>0.0</td>\n",
       "      <td>0.0</td>\n",
       "      <td>0.0</td>\n",
       "      <td>0.0</td>\n",
       "      <td>0</td>\n",
       "    </tr>\n",
       "    <tr>\n",
       "      <th>4</th>\n",
       "      <td>0.615238</td>\n",
       "      <td>0.353297</td>\n",
       "      <td>0.428474</td>\n",
       "      <td>0.0</td>\n",
       "      <td>0.0</td>\n",
       "      <td>1.00</td>\n",
       "      <td>0.0</td>\n",
       "      <td>0.0</td>\n",
       "      <td>0.0</td>\n",
       "      <td>0.0</td>\n",
       "      <td>0.0</td>\n",
       "      <td>0</td>\n",
       "    </tr>\n",
       "  </tbody>\n",
       "</table>\n",
       "</div>"
      ],
      "text/plain": [
       "     Nscore    Cscore  Impulsive  Amphet  Benzos  Caff  Cannabis  Coke  \\\n",
       "0  0.910287  0.134551   0.215401     0.0     0.0  0.25       0.0   0.0   \n",
       "1  0.666125  0.574918   0.565343     0.0     0.0  0.50       0.0   0.0   \n",
       "2  0.305900  0.740399   0.428474     0.0     0.0  1.00       0.0   0.0   \n",
       "3  0.666125  0.633946   0.428474     0.0     0.0  1.00       0.0   0.0   \n",
       "4  0.615238  0.353297   0.428474     0.0     0.0  1.00       0.0   0.0   \n",
       "\n",
       "   Ecstasy  LSD  Nicotine  CONSUMP_SCORE  \n",
       "0      0.0  0.0       0.0              0  \n",
       "1      0.0  0.0       0.0              0  \n",
       "2      0.0  0.0       0.0              0  \n",
       "3      0.0  0.0       0.0              0  \n",
       "4      0.0  0.0       0.0              0  "
      ]
     },
     "execution_count": 2,
     "metadata": {},
     "output_type": "execute_result"
    }
   ],
   "source": [
    "data = pd.read_csv(r\"C:\\Users\\Finny\\Desktop\\bpnn wity python-20210119T140404Z-001\\nn_dataset.csv\")\n",
    "\n",
    "data.head()"
   ]
  },
  {
   "cell_type": "code",
   "execution_count": 3,
   "id": "acceptable-sight",
   "metadata": {},
   "outputs": [],
   "source": [
    "#data.info()\n",
    "#data.describe()"
   ]
  },
  {
   "cell_type": "markdown",
   "id": "norwegian-circular",
   "metadata": {},
   "source": [
    "# Split Ratio "
   ]
  },
  {
   "cell_type": "code",
   "execution_count": 4,
   "id": "labeled-radius",
   "metadata": {},
   "outputs": [],
   "source": [
    "x = data.drop(\"CONSUMP_SCORE\", axis=1).values\n",
    "y = data[[\"CONSUMP_SCORE\"]].values\n",
    "\n",
    "x_train, x_test, y_train, y_test = train_test_split(x, y, test_size=0.3, random_state=0) #test_size= 0.1,0.3 "
   ]
  },
  {
   "cell_type": "markdown",
   "id": "charitable-provision",
   "metadata": {},
   "source": [
    "# Parameters"
   ]
  },
  {
   "cell_type": "code",
   "execution_count": 5,
   "id": "native-taste",
   "metadata": {},
   "outputs": [],
   "source": [
    "lr = 0.1      #1.0, 0.5, 0.1, 0.01\n",
    "ep = 5000        #1000, 5000, 10000\n",
    "N = y_train.size\n",
    "\n",
    "n_input = 11 \n",
    "n_hidden = 6 \n",
    "n_deep = 4\n",
    "n_output = 1"
   ]
  },
  {
   "cell_type": "code",
   "execution_count": 6,
   "id": "dangerous-bachelor",
   "metadata": {},
   "outputs": [
    {
     "data": {
      "text/plain": [
       "(813, 11)"
      ]
     },
     "execution_count": 6,
     "metadata": {},
     "output_type": "execute_result"
    }
   ],
   "source": [
    "x_train.shape"
   ]
  },
  {
   "cell_type": "markdown",
   "id": "wanted-british",
   "metadata": {},
   "source": [
    "# Functions"
   ]
  },
  {
   "cell_type": "code",
   "execution_count": 7,
   "id": "billion-translator",
   "metadata": {},
   "outputs": [],
   "source": [
    "def sigmoid(x):\n",
    "    return 1 / (1 + ny.exp(-x))\n",
    "\n",
    "def mean_square_error(predict, actual):\n",
    "    N = actual.size\n",
    "    mse = (ny.square(predict - actual)).sum()/(2*N)\n",
    "    return mse\n",
    "\n",
    "def root_mean_square_error(predict, actual):\n",
    "    N = actual.size\n",
    "    rmse = ny.sqrt((ny.square(predict - actual)).sum()/(2*N))\n",
    "    return rmse\n",
    "\n",
    "def accuracy(predict, actual):\n",
    "    correct_prediction = predict.round() == actual \n",
    "    acc = correct_prediction.mean()\n",
    "    return acc"
   ]
  },
  {
   "cell_type": "markdown",
   "id": "headed-wealth",
   "metadata": {},
   "source": [
    "# Initial Weight  "
   ]
  },
  {
   "cell_type": "code",
   "execution_count": 8,
   "id": "automotive-pledge",
   "metadata": {},
   "outputs": [],
   "source": [
    "ny.random.seed(10)\n",
    "\n",
    "w1 = ny.random.normal(scale=0.5, size=(n_input,n_hidden))   #(11,6)\n",
    "w2 = ny.random.normal(scale=0.5, size=(n_hidden,n_deep))    #(6,4)\n",
    "w3 = ny.random.normal(scale=0.5, size=(n_deep,n_output))    #(4,1)"
   ]
  },
  {
   "cell_type": "markdown",
   "id": "working-superintendent",
   "metadata": {},
   "source": [
    "# BPNN"
   ]
  },
  {
   "cell_type": "code",
   "execution_count": 9,
   "id": "curious-baseline",
   "metadata": {},
   "outputs": [],
   "source": [
    "monitor = {\"mean_square_error\": [], \"root_mean_square_error\": [], \"accuracy\": []}\n",
    "N = y_train.size\n",
    "\n",
    "for epoch in range(ep):\n",
    "    \n",
    "    #feedforward \n",
    "    hidden_layer = sigmoid(ny.dot(x_train, w1))      \n",
    "    deep_layer = sigmoid(ny.dot(hidden_layer, w2))\n",
    "    output_layer = sigmoid(ny.dot(deep_layer,w3))  \n",
    "    \n",
    "    #monitor \n",
    "    mse = mean_square_error(output_layer, y_train)\n",
    "    rmse = root_mean_square_error(output_layer,y_train)\n",
    "    acc = accuracy(output_layer,y_train)\n",
    "    monitor[\"mean_square_error\"].append(mse)\n",
    "    monitor[\"root_mean_square_error\"].append(rmse)\n",
    "    monitor[\"accuracy\"].append(acc)\n",
    "    \n",
    "    #backpropagate\n",
    "    output_delta = (output_layer - y_train) * output_layer * (1 - output_layer)    \n",
    "    deep_delta = ny.dot(output_delta, w3.T) * deep_layer * (1 - deep_layer)\n",
    "    hidden_delta = ny.dot(deep_delta, w2.T) * hidden_layer * (1 - hidden_layer)  \n",
    "    \n",
    "    #updated weights\n",
    "    w3 -= lr * ny.dot(deep_layer.T, output_delta)/N\n",
    "    w2 -= lr * ny.dot(hidden_layer.T, deep_delta)/N\n",
    "    w1 -= lr * ny.dot(x_train.T, hidden_delta)/N\n",
    "    \n",
    "monitor_data = pd.DataFrame(monitor)"
   ]
  },
  {
   "cell_type": "markdown",
   "id": "fallen-ambassador",
   "metadata": {},
   "source": [
    "# Graphs"
   ]
  },
  {
   "cell_type": "code",
   "execution_count": 10,
   "id": "premium-blast",
   "metadata": {},
   "outputs": [
    {
     "data": {
      "text/plain": [
       "<matplotlib.axes._subplots.AxesSubplot at 0x292202c6128>"
      ]
     },
     "execution_count": 10,
     "metadata": {},
     "output_type": "execute_result"
    },
    {
     "data": {
      "image/png": "[encoded data removed]",
      "text/plain": [
       "<Figure size 1080x360 with 2 Axes>"
      ]
     },
     "metadata": {
      "needs_background": "light"
     },
     "output_type": "display_data"
    }
   ],
   "source": [
    "fig, axes = plot.subplots(1, 2, figsize=(15, 5))\n",
    "\n",
    "monitor_data.mean_square_error.plot(ax=axes[0], title=\"Mean Square Error\")\n",
    "monitor_data.root_mean_square_error.plot(ax=axes[1], title=\"Root Mean Square Error\")"
   ]
  },
  {
   "cell_type": "code",
   "execution_count": 11,
   "id": "talented-asbestos",
   "metadata": {},
   "outputs": [
    {
     "data": {
      "text/plain": [
       "<matplotlib.axes._subplots.AxesSubplot at 0x292204d0128>"
      ]
     },
     "execution_count": 11,
     "metadata": {},
     "output_type": "execute_result"
    },
    {
     "data": {
      "image/png": "[encoded data removed]",
      "text/plain": [
       "<Figure size 1080x360 with 1 Axes>"
      ]
     },
     "metadata": {
      "needs_background": "light"
     },
     "output_type": "display_data"
    }
   ],
   "source": [
    "fig, axes = plot.subplots(figsize=(15, 5))\n",
    "\n",
    "monitor_data.accuracy.plot(title=\"Accuracy\")"
   ]
  },
  {
   "cell_type": "markdown",
   "id": "terminal-investigator",
   "metadata": {},
   "source": [
    "# Data Testing "
   ]
  },
  {
   "cell_type": "code",
   "execution_count": 12,
   "id": "satisfactory-brush",
   "metadata": {},
   "outputs": [],
   "source": [
    "#feedforward \n",
    "hidden_layer = sigmoid(ny.dot(x_test, w1))        \n",
    "deep_layer = sigmoid(ny.dot(hidden_layer, w2))   \n",
    "output_layer = sigmoid(ny.dot(deep_layer, w3))  "
   ]
  },
  {
   "cell_type": "markdown",
   "id": "coordinate-silly",
   "metadata": {},
   "source": [
    "# Final Weights For First Layer "
   ]
  },
  {
   "cell_type": "code",
   "execution_count": 13,
   "id": "russian-cinema",
   "metadata": {},
   "outputs": [
    {
     "data": {
      "text/plain": [
       "array([[ 0.5081601 ,  0.46700409, -0.78918046,  0.49644622,  0.23049246,\n",
       "        -0.56198566],\n",
       "       [-0.13275181,  0.29241186, -0.07751393,  0.68549512,  0.08298528,\n",
       "         0.24585747],\n",
       "       [-0.52793295,  0.51863437,  0.14338519,  0.45485075, -0.59291262,\n",
       "        -0.01237768],\n",
       "       [ 1.02675878, -0.86556885, -0.80026715, -1.50083458,  0.26843533,\n",
       "         1.50701975],\n",
       "       [ 0.78756876,  0.51895235,  0.20455549,  0.04389015, -0.0186118 ,\n",
       "         0.60117208],\n",
       "       [-0.39605364, -0.07602311,  0.04243013,  0.64864905,  0.50965433,\n",
       "        -0.26583149],\n",
       "       [ 0.59592424, -0.63661917,  0.85120681, -1.20729306,  0.53748629,\n",
       "         0.31963817],\n",
       "       [-0.1814907 , -0.53430043, -0.24203091, -0.70310887, -0.04454277,\n",
       "         0.47348548],\n",
       "       [ 0.70965643, -0.54276434,  0.21291795, -0.83211054, -0.06607538,\n",
       "         0.87467532],\n",
       "       [ 0.6395893 , -0.16563396,  1.30814615, -0.09440091,  0.06103272,\n",
       "         0.11524045],\n",
       "       [ 0.17047033, -0.57926867,  0.73194661, -0.83870031,  0.10175792,\n",
       "         0.08076208]])"
      ]
     },
     "execution_count": 13,
     "metadata": {},
     "output_type": "execute_result"
    }
   ],
   "source": [
    "w1"
   ]
  },
  {
   "cell_type": "markdown",
   "id": "crucial-algebra",
   "metadata": {},
   "source": [
    "# Final Weights For Second Layer  "
   ]
  },
  {
   "cell_type": "code",
   "execution_count": 14,
   "id": "constitutional-ceramic",
   "metadata": {},
   "outputs": [
    {
     "data": {
      "text/plain": [
       "array([[ 1.14511982, -0.73720403, -0.77406799, -0.60650563],\n",
       "       [-0.20566735,  0.29101278,  0.51765335,  1.45451003],\n",
       "       [ 0.56913391,  1.21666404, -1.07997947,  0.06068092],\n",
       "       [-1.17008836, -0.32529204,  1.97261165,  2.26222147],\n",
       "       [-0.70006083, -0.07244888, -0.06630286, -0.8605964 ],\n",
       "       [ 0.58736584,  0.18855227, -0.4577829 , -1.49481848]])"
      ]
     },
     "execution_count": 14,
     "metadata": {},
     "output_type": "execute_result"
    }
   ],
   "source": [
    "w2"
   ]
  },
  {
   "cell_type": "markdown",
   "id": "strange-thumbnail",
   "metadata": {},
   "source": [
    "# Final Weights For Third Layer "
   ]
  },
  {
   "cell_type": "code",
   "execution_count": 15,
   "id": "surface-edinburgh",
   "metadata": {},
   "outputs": [
    {
     "data": {
      "text/plain": [
       "array([[ 1.97474127],\n",
       "       [ 0.43632088],\n",
       "       [-1.98715082],\n",
       "       [-2.76442711]])"
      ]
     },
     "execution_count": 15,
     "metadata": {},
     "output_type": "execute_result"
    }
   ],
   "source": [
    "w3"
   ]
  },
  {
   "cell_type": "markdown",
   "id": "opposed-offense",
   "metadata": {},
   "source": [
    "# Confusion Matrix "
   ]
  },
  {
   "cell_type": "code",
   "execution_count": 16,
   "id": "entitled-newsletter",
   "metadata": {},
   "outputs": [
    {
     "name": "stdout",
     "output_type": "stream",
     "text": [
      "Confusion Matrix:  \n",
      " [[ 82  12]\n",
      " [ 11 244]] \n",
      "\n",
      "Values of Outcome:  \n",
      " 82 12 11 244 \n",
      "\n",
      "Classification Report:  \n",
      "               precision    recall  f1-score   support\n",
      "\n",
      "           1       0.88      0.87      0.88        94\n",
      "           0       0.95      0.96      0.95       255\n",
      "\n",
      "   micro avg       0.93      0.93      0.93       349\n",
      "   macro avg       0.92      0.91      0.92       349\n",
      "weighted avg       0.93      0.93      0.93       349\n",
      "\n"
     ]
    }
   ],
   "source": [
    "actual = y_test\n",
    "predict = output_layer.round()\n",
    "\n",
    "\n",
    "matrix = confusion_matrix(actual, predict, labels=[1,0])\n",
    "tn, fp, fn, tp = confusion_matrix(actual, predict, labels=[1,0]).reshape(-1)\n",
    "class_report = classification_report(actual, predict, labels=[1,0])\n",
    "\n",
    "print('Confusion Matrix: ','\\n', matrix, '\\n')\n",
    "print('Values of Outcome: ', '\\n', tn, fp, fn, tp, '\\n')\n",
    "print('Classification Report: ', '\\n', class_report)"
   ]
  },
  {
   "cell_type": "markdown",
   "id": "major-planet",
   "metadata": {},
   "source": [
    "# MSE, RMSE and Accuracy Testing"
   ]
  },
  {
   "cell_type": "code",
   "execution_count": 17,
   "id": "golden-austin",
   "metadata": {},
   "outputs": [
    {
     "name": "stdout",
     "output_type": "stream",
     "text": [
      " MSE: 0.03766395713804342 \n",
      " RMSE: 0.1940720411034094 \n",
      " Accuracy: 93.41%\n"
     ]
    }
   ],
   "source": [
    "acc_test = accuracy(output_layer, y_test)\n",
    "acc_test = '{0:.2f}%'.format(acc_test * 100)\n",
    "\n",
    "print (' MSE:', mse, '\\n', 'RMSE:', rmse, '\\n','Accuracy:', acc_test)"
   ]
  }
 ],
 "metadata": {
  "kernelspec": {
   "display_name": "Python 3",
   "language": "python",
   "name": "python3"
  },
  "language_info": {
   "codemirror_mode": {
    "name": "ipython",
    "version": 3
   },
   "file_extension": ".py",
   "mimetype": "text/x-python",
   "name": "python",
   "nbconvert_exporter": "python",
   "pygments_lexer": "ipython3",
   "version": "3.5.6"
  }
 },
 "nbformat": 4,
 "nbformat_minor": 5
}
